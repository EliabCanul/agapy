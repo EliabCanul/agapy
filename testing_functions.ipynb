{
 "cells": [
  {
   "cell_type": "markdown",
   "metadata": {},
   "source": [
    "Test agapy with some of the functions written below. The analytic solution(s) are mentioned in the cells"
   ]
  },
  {
   "cell_type": "code",
   "execution_count": 1,
   "metadata": {},
   "outputs": [],
   "source": [
    "import numpy as np\n",
    "from agapy import Agapy\n",
    "import matplotlib.pyplot as plt"
   ]
  },
  {
   "cell_type": "markdown",
   "metadata": {},
   "source": [
    "## Functions"
   ]
  },
  {
   "cell_type": "markdown",
   "metadata": {},
   "source": [
    "Run one of these functions and execute agapy"
   ]
  },
  {
   "cell_type": "code",
   "execution_count": 174,
   "metadata": {},
   "outputs": [],
   "source": [
    "name = \"Rossembrock\"\n",
    "a = 4\n",
    "b = 100\n",
    "def RB(X):\n",
    "    x1,x2 = X[0],X[1]\n",
    "\n",
    "    rosenbrock = np.log((a-x1)**2 + b*(x2-x1**2)**2)\n",
    "    \n",
    "    return rosenbrock\n",
    "\n",
    "# Solution:\n",
    "# (a,a**2)\n",
    "\n",
    "bounds = np.array([[-100,100],\n",
    "                  [-100,100]]) "
   ]
  },
  {
   "cell_type": "code",
   "execution_count": 201,
   "metadata": {},
   "outputs": [],
   "source": [
    "name = \"Eggholder\"\n",
    "a = 5\n",
    "b = 10\n",
    "def egg(X):\n",
    "    x1,x2 = X[0], X[1]\n",
    "    \n",
    "    huevo = -(x2+47)*np.sin(np.sqrt(abs(x2+(x1/2)+47))) - x1*np.sin(np.sqrt(abs(x1-(x2+47))))\n",
    "\n",
    "    return huevo\n",
    "\n",
    "# Solution:\n",
    "# (512, 404.2319)\n",
    "\n",
    "bounds = np.array([[-512,512],\n",
    "                  [-512,512]]) "
   ]
  },
  {
   "cell_type": "code",
   "execution_count": 152,
   "metadata": {},
   "outputs": [],
   "source": [
    "name = \"Cross-in-tray\"\n",
    "\n",
    "def cross(X):\n",
    "    x,y= X[0], X[1]\n",
    "    \n",
    "    cruz = -0.0001*(abs(np.sin(x)*np.sin(y)*np.exp(abs(100-(np.sqrt(x**2+y**2)/np.pi )))) + 1)**0.1\n",
    "    return cruz\n",
    "\n",
    "# Solution:\n",
    "# (1.34941, -1.34941)\n",
    "# (1.34941, 1.34941)\n",
    "# (-1.34941, 1.34941)\n",
    "# (-1.34941, -1.34941)\n",
    "\n",
    "bounds = np.array([[-10,10],\n",
    "                  [-10,10]]) \n"
   ]
  },
  {
   "cell_type": "code",
   "execution_count": 188,
   "metadata": {},
   "outputs": [],
   "source": [
    "name = \"Schaffer\"\n",
    "\n",
    "def schaffer(X):\n",
    "    x,y = X[0], X[1]\n",
    "    \n",
    "    arriba = np.cos(np.sin(abs(x**2-y**2)))**2 - 0.5\n",
    "    abajo = (1 + 0.001*(x**2 + y**2))**2\n",
    "    \n",
    "    sch = 0.5 + (arriba/abajo)\n",
    "    \n",
    "    return sch\n",
    "\n",
    "# Solution:\n",
    "# (0, 1.25313)\n",
    "# (0,-1.25313)\n",
    "\n",
    "bounds = np.array([[-100,100],\n",
    "                  [-100,100]]) "
   ]
  },
  {
   "cell_type": "markdown",
   "metadata": {},
   "source": [
    "## Agapy"
   ]
  },
  {
   "cell_type": "code",
   "execution_count": 203,
   "metadata": {},
   "outputs": [
    {
     "name": "stdout",
     "output_type": "stream",
     "text": [
      "Done!\n"
     ]
    }
   ],
   "source": [
    "# Create instance\n",
    "ag = Agapy(egg,     # the function to minimize\n",
    "           bounds,  # The boundaries\n",
    "           individuals=300, \n",
    "           fparents=.2,\n",
    "           generations=300,\n",
    "           save_evolution=True)\n",
    "\n",
    "\n",
    "# Run\n",
    "sides, fun, pop = ag.run()\n",
    "print('Done!')"
   ]
  },
  {
   "cell_type": "code",
   "execution_count": 206,
   "metadata": {},
   "outputs": [
    {
     "name": "stdout",
     "output_type": "stream",
     "text": [
      "1 best solution(s):\n",
      " [[511.97236885 403.75094163]]\n",
      "Function value(s):\n",
      " [-959.31121398]\n"
     ]
    }
   ],
   "source": [
    "# Number of best solution(s)\n",
    "n = 1\n",
    "\n",
    "best = pop[-1][:n]\n",
    "fbest = fun[-1][:n]\n",
    "print(f\"{n} best solution(s):\\n {best}\")\n",
    "print(f\"Function value(s):\\n {fbest}\")"
   ]
  },
  {
   "cell_type": "markdown",
   "metadata": {},
   "source": [
    "## Plot of parents at each generation"
   ]
  },
  {
   "cell_type": "code",
   "execution_count": 208,
   "metadata": {},
   "outputs": [
    {
     "data": {
      "text/plain": [
       "Text(0, 0.5, 'x2')"
      ]
     },
     "execution_count": 208,
     "metadata": {},
     "output_type": "execute_result"
    },
    {
     "data": {
      "image/png": "[encoded data removed]",
      "text/plain": [
       "<Figure size 576x576 with 1 Axes>"
      ]
     },
     "metadata": {
      "needs_background": "light"
     },
     "output_type": "display_data"
    }
   ],
   "source": [
    "plt.figure(figsize=(8,8))\n",
    "plt.title(name)\n",
    "for ip, p in enumerate(pop):\n",
    "    # All individuals\n",
    "    #x = p.T[0]\n",
    "    #y = p.T[1]\n",
    "    #plt.scatter(x, y, c='k',s=10)\n",
    "    \n",
    "    # Parents\n",
    "    x = p.T[0][:ag.nparents]\n",
    "    y = p.T[1][:ag.nparents]\n",
    "    plt.scatter(x, y, marker='x',c='k',s=30)\n",
    "        \n",
    "\n",
    "# The best solution\n",
    "plt.scatter(best.T[0], best.T[1],marker='X',c='cyan')\n",
    "plt.xlabel(\"x1\")\n",
    "plt.ylabel(\"x2\")"
   ]
  },
  {
   "cell_type": "markdown",
   "metadata": {},
   "source": [
    "## Plot of merith function minimization at each generation"
   ]
  },
  {
   "cell_type": "code",
   "execution_count": 210,
   "metadata": {},
   "outputs": [
    {
     "data": {
      "text/plain": [
       "<matplotlib.legend.Legend at 0x7f45292665f8>"
      ]
     },
     "execution_count": 210,
     "metadata": {},
     "output_type": "execute_result"
    },
    {
     "data": {
      "image/png": "[encoded data removed]",
      "text/plain": [
       "<Figure size 720x576 with 1 Axes>"
      ]
     },
     "metadata": {
      "needs_background": "light"
     },
     "output_type": "display_data"
    }
   ],
   "source": [
    "plt.figure(figsize=(10,8))\n",
    "plt.title(name)\n",
    "\n",
    "fmin,fmax= [],[]\n",
    "for i, f in enumerate(fun):\n",
    "    fmin.append(min(f))\n",
    "    fmax.append(max(f))\n",
    "\n",
    "plt.plot(range(i+1), fmin, label=\"Min value\")\n",
    "plt.plot(range(i+1), fmax, label=\"Max value\")\n",
    "plt.xlabel('Generation')\n",
    "plt.ylabel('Function value')\n",
    "plt.yscale('symlog')\n",
    "plt.legend()"
   ]
  },
  {
   "cell_type": "code",
   "execution_count": null,
   "metadata": {},
   "outputs": [],
   "source": []
  }
 ],
 "metadata": {
  "kernelspec": {
   "display_name": "Python 3",
   "language": "python",
   "name": "python3"
  },
  "language_info": {
   "codemirror_mode": {
    "name": "ipython",
    "version": 3
   },
   "file_extension": ".py",
   "mimetype": "text/x-python",
   "name": "python",
   "nbconvert_exporter": "python",
   "pygments_lexer": "ipython3",
   "version": "3.7.3"
  }
 },
 "nbformat": 4,
 "nbformat_minor": 2
}
